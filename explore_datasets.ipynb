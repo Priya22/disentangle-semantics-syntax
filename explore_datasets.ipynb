{
 "cells": [
  {
   "cell_type": "code",
   "execution_count": 1,
   "metadata": {},
   "outputs": [],
   "source": [
    "import pandas as pd\n",
    "import numpy as np\n",
    "import os, re, sys, csv\n",
    "from collections import defaultdict\n",
    "from tqdm import tqdm"
   ]
  },
  {
   "cell_type": "code",
   "execution_count": 2,
   "metadata": {},
   "outputs": [],
   "source": [
    "import pickle as pkl"
   ]
  },
  {
   "cell_type": "code",
   "execution_count": 20,
   "metadata": {},
   "outputs": [],
   "source": [
    "with open('./para-nmt-0.5m-processed.txt', 'r') as f:\n",
    "    lines = f.readlines()\n",
    "lines = [x.strip() for x in lines]"
   ]
  },
  {
   "cell_type": "code",
   "execution_count": 21,
   "metadata": {},
   "outputs": [
    {
     "data": {
      "text/plain": [
       "500000"
      ]
     },
     "execution_count": 21,
     "metadata": {},
     "output_type": "execute_result"
    }
   ],
   "source": [
    "len(lines)"
   ]
  },
  {
   "cell_type": "code",
   "execution_count": 5,
   "metadata": {},
   "outputs": [
    {
     "data": {
      "text/plain": [
       "['wine ! look , i know how this sounds .\\ti know how it sounds .',\n",
       " \"do n't you care ? ''\\tdo you care ? ``\",\n",
       " \"why 'd you light the fuse , man ?\\twhy did you light the cigar , man ?\",\n",
       " 'maybe a balloon might have lifted a man up there .\\tmaybe there could be a balloon out there .',\n",
       " \"you fitted up this defendant because you do n't like him .\\tyou threw this defendant very well 'cause you did n't like him .\"]"
      ]
     },
     "execution_count": 5,
     "metadata": {},
     "output_type": "execute_result"
    }
   ],
   "source": [
    "lines[:5]"
   ]
  },
  {
   "cell_type": "code",
   "execution_count": 22,
   "metadata": {},
   "outputs": [
    {
     "data": {
      "text/plain": [
       "'wine ! look , i know how this sounds .\\ti know how it sounds .'"
      ]
     },
     "execution_count": 22,
     "metadata": {},
     "output_type": "execute_result"
    }
   ],
   "source": [
    "lines[0]"
   ]
  },
  {
   "cell_type": "code",
   "execution_count": 6,
   "metadata": {},
   "outputs": [],
   "source": [
    "lines = [x.split(\"\\t\") for x in lines]"
   ]
  },
  {
   "cell_type": "code",
   "execution_count": 7,
   "metadata": {},
   "outputs": [
    {
     "data": {
      "text/plain": [
       "[['wine ! look , i know how this sounds .', 'i know how it sounds .'],\n",
       " [\"do n't you care ? ''\", 'do you care ? ``'],\n",
       " [\"why 'd you light the fuse , man ?\", 'why did you light the cigar , man ?'],\n",
       " ['maybe a balloon might have lifted a man up there .',\n",
       "  'maybe there could be a balloon out there .'],\n",
       " [\"you fitted up this defendant because you do n't like him .\",\n",
       "  \"you threw this defendant very well 'cause you did n't like him .\"]]"
      ]
     },
     "execution_count": 7,
     "metadata": {},
     "output_type": "execute_result"
    }
   ],
   "source": [
    "lines[:5]"
   ]
  },
  {
   "cell_type": "raw",
   "metadata": {},
   "source": [
    "#list of args\n",
    "--debug 1 \\\n",
    "    --save_prefix vgvae-exp \\\n",
    "    --decoder_type bag_of_words \\\n",
    "    --yencoder_type word_avg \\   ----???\n",
    "    --zencoder_type word_avg \\       ????\n",
    "    --n_epoch 50 \\\n",
    "    --train_file para-nmt-0.5m-processed.txt \\         //this is the format\n",
    "    --eval_file sts_data.pkl \\                         //check. we don't have scores.\n",
    "    --pre_train_emb 0 \\            \n",
    "    --vocab_file para-nmt-0.5m-vocab \\                 //make\n",
    "    --vocab_size 50000 \\                               \n",
    "    --batch_size 30 \\\n",
    "    --dropout 0.0 \\\n",
    "    --l2 0.0 \\\n",
    "    --max_vmf_kl_temp 1e-4 \\\n",
    "    --max_gauss_kl_temp 1e-3 \\\n",
    "    --zmlp_n_layer 0 \\\n",
    "    --ymlp_n_layer 0 \\\n",
    "    --mlp_n_layer 3 \\\n",
    "    --mega_batch 20 \\\n",
    "    --para_logloss_ratio 1.0 \\\n",
    "    --ploss_ratio 1.0 \\\n",
    "    --disc_ratio 1.0 \\\n",
    "    --mlp_hidden_size 100 \\\n",
    "    --ysize 50 \\\n",
    "    --zsize 50 \\\n",
    "    --embed_dim 50 \\\n",
    "    --encoder_size 50 \\\n",
    "    --decoder_size 100 \\\n",
    "    --p_scramble 0.0 \\\n",
    "    --print_every 100 \\\n",
    "    --eval_every 1000 \\\n",
    "    --summarize 0"
   ]
  },
  {
   "cell_type": "code",
   "execution_count": null,
   "metadata": {},
   "outputs": [],
   "source": [
    "#bible in this format"
   ]
  },
  {
   "cell_type": "code",
   "execution_count": null,
   "metadata": {},
   "outputs": [],
   "source": []
  },
  {
   "cell_type": "code",
   "execution_count": 10,
   "metadata": {},
   "outputs": [],
   "source": [
    "bible_df = pkl.load(open('../semantics_final/Data/aligned_dataframe.pkl','rb'))"
   ]
  },
  {
   "cell_type": "code",
   "execution_count": 11,
   "metadata": {},
   "outputs": [
    {
     "data": {
      "text/plain": [
       "Index(['KJV', 'ASV', 'BBE', 'DARBY', 'DRA', 'LEB', 'WEB', 'YLT'], dtype='object')"
      ]
     },
     "execution_count": 11,
     "metadata": {},
     "output_type": "execute_result"
    }
   ],
   "source": [
    "bible_df.columns"
   ]
  },
  {
   "cell_type": "code",
   "execution_count": 12,
   "metadata": {},
   "outputs": [],
   "source": [
    "#ASV vs LEB\n",
    "asv = list(bible_df['ASV'])\n",
    "leb = list(bible_df['LEB'])"
   ]
  },
  {
   "cell_type": "code",
   "execution_count": 13,
   "metadata": {},
   "outputs": [
    {
     "data": {
      "text/plain": [
       "(31096, 31096)"
      ]
     },
     "execution_count": 13,
     "metadata": {},
     "output_type": "execute_result"
    }
   ],
   "source": [
    "len(asv), len(leb)"
   ]
  },
  {
   "cell_type": "code",
   "execution_count": 14,
   "metadata": {},
   "outputs": [],
   "source": [
    "pairs = [(asv[i], leb[i]) for i in range(len(asv))]"
   ]
  },
  {
   "cell_type": "code",
   "execution_count": 15,
   "metadata": {},
   "outputs": [
    {
     "data": {
      "text/plain": [
       "31096"
      ]
     },
     "execution_count": 15,
     "metadata": {},
     "output_type": "execute_result"
    }
   ],
   "source": [
    "len(pairs)"
   ]
  },
  {
   "cell_type": "code",
   "execution_count": 24,
   "metadata": {},
   "outputs": [
    {
     "data": {
      "text/plain": [
       "('1 Be not thou envious against evil men; Neither desire to be with them:',\n",
       " '1 Do not envy men of evil, and do not desire to be with them.')"
      ]
     },
     "execution_count": 24,
     "metadata": {},
     "output_type": "execute_result"
    }
   ],
   "source": [
    "pairs[0]"
   ]
  },
  {
   "cell_type": "code",
   "execution_count": 25,
   "metadata": {},
   "outputs": [],
   "source": [
    "processed = []\n",
    "for p in pairs:\n",
    "    l1 = \" \".join(p[0].split(\" \")[1:])\n",
    "    l2 = \" \".join(p[1].split(\" \")[1:])\n",
    "    processed.append((l1, l2))"
   ]
  },
  {
   "cell_type": "code",
   "execution_count": 26,
   "metadata": {},
   "outputs": [
    {
     "data": {
      "text/plain": [
       "31096"
      ]
     },
     "execution_count": 26,
     "metadata": {},
     "output_type": "execute_result"
    }
   ],
   "source": [
    "len(processed)"
   ]
  },
  {
   "cell_type": "code",
   "execution_count": 27,
   "metadata": {},
   "outputs": [
    {
     "data": {
      "text/plain": [
       "('Be not thou envious against evil men; Neither desire to be with them:',\n",
       " 'Do not envy men of evil, and do not desire to be with them.')"
      ]
     },
     "execution_count": 27,
     "metadata": {},
     "output_type": "execute_result"
    }
   ],
   "source": [
    "processed[0]"
   ]
  },
  {
   "cell_type": "code",
   "execution_count": null,
   "metadata": {},
   "outputs": [],
   "source": []
  },
  {
   "cell_type": "code",
   "execution_count": 28,
   "metadata": {},
   "outputs": [],
   "source": [
    "#split\n",
    "train, validate, test = np.split(processed, [int(.7*len(processed)), int(.8*len(processed))])"
   ]
  },
  {
   "cell_type": "code",
   "execution_count": 29,
   "metadata": {},
   "outputs": [
    {
     "data": {
      "text/plain": [
       "(numpy.ndarray, numpy.ndarray, numpy.ndarray)"
      ]
     },
     "execution_count": 29,
     "metadata": {},
     "output_type": "execute_result"
    }
   ],
   "source": [
    "type(train), type(validate), type(test)"
   ]
  },
  {
   "cell_type": "code",
   "execution_count": 30,
   "metadata": {},
   "outputs": [
    {
     "data": {
      "text/plain": [
       "(21767, 3109, 6220)"
      ]
     },
     "execution_count": 30,
     "metadata": {},
     "output_type": "execute_result"
    }
   ],
   "source": [
    "len(train), len(validate), len(test)"
   ]
  },
  {
   "cell_type": "code",
   "execution_count": 31,
   "metadata": {},
   "outputs": [
    {
     "data": {
      "text/plain": [
       "array(['Be not thou envious against evil men; Neither desire to be with them:',\n",
       "       'Do not envy men of evil, and do not desire to be with them.'],\n",
       "      dtype='<U526')"
      ]
     },
     "execution_count": 31,
     "metadata": {},
     "output_type": "execute_result"
    }
   ],
   "source": [
    "train[0]"
   ]
  },
  {
   "cell_type": "code",
   "execution_count": 32,
   "metadata": {},
   "outputs": [
    {
     "data": {
      "text/plain": [
       "'Be not thou envious against evil men; Neither desire to be with them:'"
      ]
     },
     "execution_count": 32,
     "metadata": {},
     "output_type": "execute_result"
    }
   ],
   "source": [
    "train[0][0]"
   ]
  },
  {
   "cell_type": "code",
   "execution_count": 33,
   "metadata": {},
   "outputs": [],
   "source": [
    "with open('./bible_train.txt', 'w') as f:\n",
    "    for l in train:\n",
    "        #l1 = \" \".joinl[0].split(\" \")\n",
    "        print(l[0], l[1], sep='\\t', file=f)"
   ]
  },
  {
   "cell_type": "code",
   "execution_count": 36,
   "metadata": {},
   "outputs": [],
   "source": [
    "with open('./bible_dev.txt', 'w') as f:\n",
    "    for l in validate:\n",
    "        print(l[0], l[1], sep='\\t', file=f)"
   ]
  },
  {
   "cell_type": "code",
   "execution_count": 37,
   "metadata": {},
   "outputs": [],
   "source": [
    "with open('./bible_test.txt', 'w') as f:\n",
    "    for l in test:\n",
    "        print(l[0], l[1], sep='\\t', file=f)"
   ]
  },
  {
   "cell_type": "code",
   "execution_count": 3,
   "metadata": {},
   "outputs": [],
   "source": [
    "#eval file format?\n",
    "eval_data = pkl.load(open('sts_data.pkl', 'rb'))"
   ]
  },
  {
   "cell_type": "code",
   "execution_count": 4,
   "metadata": {},
   "outputs": [
    {
     "data": {
      "text/plain": [
       "dict"
      ]
     },
     "execution_count": 4,
     "metadata": {},
     "output_type": "execute_result"
    }
   ],
   "source": [
    "type(eval_data)"
   ]
  },
  {
   "cell_type": "code",
   "execution_count": 5,
   "metadata": {},
   "outputs": [
    {
     "data": {
      "text/plain": [
       "7"
      ]
     },
     "execution_count": 5,
     "metadata": {},
     "output_type": "execute_result"
    }
   ],
   "source": [
    "len(eval_data)"
   ]
  },
  {
   "cell_type": "code",
   "execution_count": 6,
   "metadata": {},
   "outputs": [
    {
     "data": {
      "text/plain": [
       "dict_keys(['2012', '2015', '2014', '2016', '2017', '2013', 'STSBenchmark'])"
      ]
     },
     "execution_count": 6,
     "metadata": {},
     "output_type": "execute_result"
    }
   ],
   "source": [
    "eval_data.keys()"
   ]
  },
  {
   "cell_type": "code",
   "execution_count": 7,
   "metadata": {},
   "outputs": [],
   "source": [
    "#keep eval data same for now. "
   ]
  },
  {
   "cell_type": "code",
   "execution_count": null,
   "metadata": {},
   "outputs": [],
   "source": [
    " #--vocab_file para-nmt-0.5m-vocab \\"
   ]
  },
  {
   "cell_type": "code",
   "execution_count": 38,
   "metadata": {},
   "outputs": [],
   "source": [
    "with open('bible_train.txt', 'r') as f:\n",
    "    lines = f.readlines()\n",
    "lines = [x.strip() for x in lines]"
   ]
  },
  {
   "cell_type": "code",
   "execution_count": 39,
   "metadata": {},
   "outputs": [
    {
     "data": {
      "text/plain": [
       "'Be not thou envious against evil men; Neither desire to be with them:\\tDo not envy men of evil, and do not desire to be with them.'"
      ]
     },
     "execution_count": 39,
     "metadata": {},
     "output_type": "execute_result"
    }
   ],
   "source": [
    "lines[0]"
   ]
  },
  {
   "cell_type": "code",
   "execution_count": 44,
   "metadata": {},
   "outputs": [],
   "source": [
    "def load_sent(path):\n",
    "        data_pair1 = []\n",
    "        data_pair2 = []\n",
    "        with open(path) as f:\n",
    "            for line in f:\n",
    "                line = line.strip().lower()\n",
    "                if len(line):\n",
    "                    #print(line)\n",
    "                    line = line.split('\\t')\n",
    "                    if len(line) == 2:\n",
    "                        data_pair1.append(line[0].split(\" \"))\n",
    "                        data_pair2.append(line[1].split(\" \"))\n",
    "                    else:\n",
    "                        print(line)\n",
    "        assert len(data_pair1) == len(data_pair2)\n",
    "        return data_pair1, data_pair2"
   ]
  },
  {
   "cell_type": "code",
   "execution_count": 46,
   "metadata": {},
   "outputs": [
    {
     "name": "stdout",
     "output_type": "stream",
     "text": [
      "['and when he had thus spoken, he dismissed the assembly.']\n",
      "['the grace of the lord jesus christ, and the love of god, and the communion of the holy spirit, be with you all.']\n",
      "['the grace of our lord jesus christ be with all of you. amen.']\n",
      "['now to him that is able to establish you according to my gospel and the preaching of jesus christ, according to the revelation of the mystery which hath been kept in silence through times eternal,']\n",
      "['but now is manifested, and by the scriptures of the prophets, according to the commandment of the eternal god, is made known unto all the nations unto obedience of faith:']\n",
      "['to the only wise god, through jesus christ, to whom be the glory for ever. amen.']\n"
     ]
    }
   ],
   "source": [
    " data_pair1, data_pair2 = load_sent('bible_train.txt')"
   ]
  },
  {
   "cell_type": "code",
   "execution_count": 47,
   "metadata": {},
   "outputs": [
    {
     "data": {
      "text/plain": [
       "(21747, 21747)"
      ]
     },
     "execution_count": 47,
     "metadata": {},
     "output_type": "execute_result"
    }
   ],
   "source": [
    "len(data_pair1), len(data_pair2)"
   ]
  },
  {
   "cell_type": "code",
   "execution_count": null,
   "metadata": {},
   "outputs": [],
   "source": [
    "#model vgvae models.py\n"
   ]
  }
 ],
 "metadata": {
  "kernelspec": {
   "display_name": "Python 3",
   "language": "python",
   "name": "python3"
  },
  "language_info": {
   "codemirror_mode": {
    "name": "ipython",
    "version": 3
   },
   "file_extension": ".py",
   "mimetype": "text/x-python",
   "name": "python",
   "nbconvert_exporter": "python",
   "pygments_lexer": "ipython3",
   "version": "3.7.6"
  },
  "varInspector": {
   "cols": {
    "lenName": 16,
    "lenType": 16,
    "lenVar": 40
   },
   "kernels_config": {
    "python": {
     "delete_cmd_postfix": "",
     "delete_cmd_prefix": "del ",
     "library": "var_list.py",
     "varRefreshCmd": "print(var_dic_list())"
    },
    "r": {
     "delete_cmd_postfix": ") ",
     "delete_cmd_prefix": "rm(",
     "library": "var_list.r",
     "varRefreshCmd": "cat(var_dic_list()) "
    }
   },
   "types_to_exclude": [
    "module",
    "function",
    "builtin_function_or_method",
    "instance",
    "_Feature"
   ],
   "window_display": false
  }
 },
 "nbformat": 4,
 "nbformat_minor": 4
}
